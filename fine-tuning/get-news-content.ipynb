{
 "cells": [
  {
   "cell_type": "code",
   "execution_count": null,
   "metadata": {
    "colab": {
     "base_uri": "https://localhost:8080/"
    },
    "executionInfo": {
     "elapsed": 24422,
     "status": "ok",
     "timestamp": 1714848826877,
     "user": {
      "displayName": "Enrico Ferraz",
      "userId": "15178631077992699920"
     },
     "user_tz": 180
    },
    "id": "W5XK4Eg88Nnr",
    "outputId": "1facf5c7-b0dc-4e3b-d2d6-eaf6ce1d5dd2"
   },
   "outputs": [],
   "source": [
    "import requests\n",
    "from bs4 import BeautifulSoup\n",
    "import json\n",
    "\n",
    "def get_news_content(links_file):\n",
    "    with open(links_file, 'r') as file:\n",
    "        links = set(file.readlines())\n",
    "    news_contents = []\n",
    "\n",
    "    for link in links:\n",
    "        link = link.strip() \n",
    "        print(link)\n",
    "        response = requests.get(link)\n",
    "        if response.status_code == 200:\n",
    "            soup = BeautifulSoup(response.text, 'html.parser')\n",
    "\n",
    "            article_content = soup.find('div', class_='article__content')\n",
    "\n",
    "            if article_content:\n",
    "                paragraphs = article_content.find_all('p', class_='paragraph inline-placeholder vossi-paragraph')\n",
    "                content = ' '.join(p.get_text(strip=True) for p in paragraphs)\n",
    "                news_contents.append(content)\n",
    "                print(content)\n",
    "            else:\n",
    "                news_contents.append(\"Conteúdo não encontrado.\")\n",
    "        else:\n",
    "            news_contents.append(f\"Falha ao extrair o conteúdo da notícia: {response.status_code}\")\n",
    "\n",
    "    with open('data/news_contents.json', 'w') as json_file:\n",
    "        json.dump({\"news_content\": news_contents}, json_file)\n",
    "\n",
    "get_news_content('data/CNN_Links.txt')"
   ]
  }
 ],
 "metadata": {
  "colab": {
   "authorship_tag": "ABX9TyNkf43SA+R8NDBFJ4zpD98T",
   "provenance": []
  },
  "kernelspec": {
   "display_name": ".venv",
   "language": "python",
   "name": "python3"
  },
  "language_info": {
   "codemirror_mode": {
    "name": "ipython",
    "version": 3
   },
   "file_extension": ".py",
   "mimetype": "text/x-python",
   "name": "python",
   "nbconvert_exporter": "python",
   "pygments_lexer": "ipython3",
   "version": "3.12.3"
  }
 },
 "nbformat": 4,
 "nbformat_minor": 0
}
