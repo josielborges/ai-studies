{
 "cells": [
  {
   "cell_type": "code",
   "execution_count": 2,
   "metadata": {
    "id": "VvXIUylQYIEr"
   },
   "outputs": [],
   "source": [
    "import json\n",
    "\n",
    "def process_line_complementary_dataset(item):\n",
    "    return {\n",
    "        \"input\": f\"SUMMARIZE THIS NEWS.\\n[|News|] {item['story']}[|eNews|]\\n\\n[|summary|]{item['summary']}[|esummary|]\"\n",
    "    }\n",
    "\n",
    "def process_news_summaries_file(file_path, processed_data):\n",
    "    with open(file_path, 'r', encoding='utf-8') as file:\n",
    "        json_data = json.load(file)\n",
    "        news_list = json_data[\"news_summaries\"]\n",
    "\n",
    "        for item in news_list:\n",
    "            story = item[\"story\"]\n",
    "            summary = item[\"summary\"]\n",
    "            formatted_text = f\"SUMMARIZE THIS NEWS.\\n[|News|] {story}[|eNews|]\\n\\n[|summary|]{summary}[|esummary|]\"\n",
    "            processed_data.append({\"input\": formatted_text})\n"
   ]
  },
  {
   "cell_type": "code",
   "execution_count": null,
   "metadata": {
    "id": "9dF4NkQmZqv1"
   },
   "outputs": [],
   "source": [
    "\n",
    "processed_data = []\n",
    "\n",
    "# Jsonl downloaded from https://huggingface.co/datasets/glnmario/news-qa-summarization\n",
    "with open(r'data/data.jsonl', 'r', encoding='utf-8') as file:\n",
    "    for line in file:\n",
    "        item = json.loads(line)\n",
    "        processed_data.append(process_line_complementary_dataset(item))\n",
    "\n",
    "process_news_summaries_file(r'data/news_summaries.json', processed_data)\n",
    "\n",
    "output_filename = r'data/news_dataset_chat_data.json'\n",
    "with open(output_filename, 'w', encoding='utf-8') as file:\n",
    "    json.dump(processed_data, file, ensure_ascii=False, indent=4)\n",
    "\n",
    "print(f\"All formated data was saved at '{output_filename}'.\")"
   ]
  }
 ],
 "metadata": {
  "colab": {
   "authorship_tag": "ABX9TyMsfekl3GPGVmtH1xIU0yL7",
   "provenance": []
  },
  "kernelspec": {
   "display_name": ".venv",
   "language": "python",
   "name": "python3"
  },
  "language_info": {
   "codemirror_mode": {
    "name": "ipython",
    "version": 3
   },
   "file_extension": ".py",
   "mimetype": "text/x-python",
   "name": "python",
   "nbconvert_exporter": "python",
   "pygments_lexer": "ipython3",
   "version": "3.12.3"
  }
 },
 "nbformat": 4,
 "nbformat_minor": 0
}
