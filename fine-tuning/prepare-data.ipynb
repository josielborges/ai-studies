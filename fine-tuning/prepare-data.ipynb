{
 "cells": [
  {
   "cell_type": "code",
   "execution_count": 1,
   "metadata": {
    "id": "VvXIUylQYIEr"
   },
   "outputs": [],
   "source": [
    "import json\n",
    "\n",
    "def process_news_summaries_file(file_path, instructions, inputs, outputs):\n",
    "    with open(file_path, 'r', encoding='utf-8') as file:\n",
    "        json_data = json.load(file)\n",
    "        news_list = json_data[\"news_summaries\"]\n",
    "\n",
    "        for item in news_list:\n",
    "            story = item[\"story\"]\n",
    "            summary = item[\"summary\"]\n",
    "            instructions.append(\"SUMMARIZE THIS NEWS\")\n",
    "            inputs.append(story)\n",
    "            outputs.append(summary)"
   ]
  },
  {
   "cell_type": "code",
   "execution_count": null,
   "metadata": {
    "id": "9dF4NkQmZqv1"
   },
   "outputs": [],
   "source": [
    "instructions = []\n",
    "inputs = []\n",
    "outputs = []\n",
    "\n",
    "# Jsonl downloaded from https://huggingface.co/datasets/glnmario/news-qa-summarization\n",
    "with open(r'data/data.jsonl', 'r', encoding='utf-8') as file:\n",
    "    for line in file:\n",
    "        item = json.loads(line)\n",
    "        \n",
    "        instructions.append(\"SUMMARIZE THIS NEWS\")\n",
    "        inputs.append(item['story'])\n",
    "        outputs.append(item['summary'])\n",
    "\n",
    "process_news_summaries_file(r'data/news_summaries.json', instructions, inputs, outputs)\n",
    "\n",
    "formatted_data = {\n",
    "    \"instruction\": instructions,\n",
    "    \"input\": inputs,\n",
    "    \"output\": outputs\n",
    "}\n",
    "\n",
    "output_filename = r'data/news_dataset_chat_data2.json'\n",
    "with open(output_filename, 'w', encoding='utf-8') as file:\n",
    "    json.dump(formatted_data, file, ensure_ascii=False, indent=4)\n",
    "\n",
    "print(f\"All formated data was saved at '{output_filename}'.\")"
   ]
  }
 ],
 "metadata": {
  "colab": {
   "authorship_tag": "ABX9TyMsfekl3GPGVmtH1xIU0yL7",
   "provenance": []
  },
  "kernelspec": {
   "display_name": ".venv",
   "language": "python",
   "name": "python3"
  },
  "language_info": {
   "codemirror_mode": {
    "name": "ipython",
    "version": 3
   },
   "file_extension": ".py",
   "mimetype": "text/x-python",
   "name": "python",
   "nbconvert_exporter": "python",
   "pygments_lexer": "ipython3",
   "version": "3.12.3"
  }
 },
 "nbformat": 4,
 "nbformat_minor": 0
}
