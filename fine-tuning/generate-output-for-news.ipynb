{
 "cells": [
  {
   "cell_type": "code",
   "execution_count": 5,
   "metadata": {
    "id": "EYjAlzv6Ggl-"
   },
   "outputs": [],
   "source": [
    "import requests\n",
    "import json\n",
    "from openai import OpenAI\n",
    "from dotenv import load_dotenv\n",
    "\n",
    "import os\n",
    "\n",
    "load_dotenv()\n",
    "\n",
    "OPENAI_API_KEY = os.getenv(\"OPENAI_API_KEY\")\n",
    "OPENAI_MODEL = 'gpt-4o-mini'\n",
    "\n",
    "client = OpenAI(api_key=OPENAI_API_KEY)"
   ]
  },
  {
   "cell_type": "code",
   "execution_count": null,
   "metadata": {
    "colab": {
     "base_uri": "https://localhost:8080/"
    },
    "executionInfo": {
     "elapsed": 102404,
     "status": "ok",
     "timestamp": 1714868287031,
     "user": {
      "displayName": "Enrico Ferraz",
      "userId": "15178631077992699920"
     },
     "user_tz": 180
    },
    "id": "A157qZqTAz6D",
    "outputId": "ad21aa59-73dc-46a6-bd0a-c430dd131f02"
   },
   "outputs": [],
   "source": [
    "\n",
    "def summarize_news(news_file):\n",
    "    with open(news_file, 'r') as file:\n",
    "        news_data = json.load(file)\n",
    "        news_contents = news_data['news_content']\n",
    "\n",
    "    summaries = []\n",
    "\n",
    "    for content in news_contents:\n",
    "\n",
    "        response = client.chat.completions.create(\n",
    "          model=OPENAI_MODEL,\n",
    "          response_format={ \"type\": \"json_object\" },\n",
    "          messages=[\n",
    "            {\n",
    "              \"role\": \"system\",\n",
    "              \"content\": \"Summarize this news article and return in the following JSON format containing only summary. Create with a maximum of 100 words.\"\n",
    "            },\n",
    "            {\n",
    "              \"role\": \"user\",\n",
    "              \"content\": f\"{content}\\n###\"\n",
    "            }\n",
    "          ],\n",
    "          temperature=0.5,\n",
    "          top_p=1\n",
    "        )\n",
    "\n",
    "        summary_text = response.choices[0].message.content.strip()\n",
    "        print(summary_text)\n",
    "        summaries.append({\n",
    "            \"story\": content,\n",
    "            \"summary\": summary_text.replace('{\\n    \\\"summary\\\": \\\"', \"\")\n",
    "        })\n",
    "\n",
    "\n",
    "    with open('data/news_summaries.json', 'w') as json_file:\n",
    "        json.dump({\"news_summaries\": summaries}, json_file)\n",
    "\n",
    "summarize_news('data/news_contents.json')"
   ]
  }
 ],
 "metadata": {
  "colab": {
   "authorship_tag": "ABX9TyP5Mmx5zSDr70W5MUOV3mSd",
   "provenance": []
  },
  "kernelspec": {
   "display_name": ".venv",
   "language": "python",
   "name": "python3"
  },
  "language_info": {
   "codemirror_mode": {
    "name": "ipython",
    "version": 3
   },
   "file_extension": ".py",
   "mimetype": "text/x-python",
   "name": "python",
   "nbconvert_exporter": "python",
   "pygments_lexer": "ipython3",
   "version": "3.12.3"
  }
 },
 "nbformat": 4,
 "nbformat_minor": 0
}
