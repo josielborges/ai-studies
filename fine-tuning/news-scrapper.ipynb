{
 "cells": [
  {
   "cell_type": "code",
   "execution_count": 1,
   "metadata": {
    "executionInfo": {
     "elapsed": 511,
     "status": "ok",
     "timestamp": 1714847213090,
     "user": {
      "displayName": "Enrico Ferraz",
      "userId": "15178631077992699920"
     },
     "user_tz": 180
    },
    "id": "qpUkpvTw2FsX"
   },
   "outputs": [],
   "source": [
    "import requests\n",
    "from bs4 import BeautifulSoup"
   ]
  },
  {
   "cell_type": "code",
   "execution_count": 2,
   "metadata": {
    "executionInfo": {
     "elapsed": 455,
     "status": "ok",
     "timestamp": 1714847216870,
     "user": {
      "displayName": "Enrico Ferraz",
      "userId": "15178631077992699920"
     },
     "user_tz": 180
    },
    "id": "OIOgTXQ-2F47"
   },
   "outputs": [],
   "source": [
    "def scrape_cnn_links(url):\n",
    "    response = requests.get(url)\n",
    "\n",
    "    if response.status_code == 200:\n",
    "        soup = BeautifulSoup(response.text, 'html.parser')\n",
    "\n",
    "        valid_links = []\n",
    "\n",
    "        for a in soup.find_all('a', href=True):\n",
    "            href = a['href']\n",
    "            if href.startswith('/') and href.endswith('.html'):\n",
    "                full_link = f\"https://www.cnn.com{href}\"\n",
    "                valid_links.append(full_link)\n",
    "            else: pass\n",
    "\n",
    "        return valid_links\n",
    "    else:\n",
    "        return f\"Falha ao extrair o conteúdo da notícia: {response.status_code}\"\n"
   ]
  },
  {
   "cell_type": "code",
   "execution_count": 3,
   "metadata": {
    "executionInfo": {
     "elapsed": 1025,
     "status": "ok",
     "timestamp": 1714847224421,
     "user": {
      "displayName": "Enrico Ferraz",
      "userId": "15178631077992699920"
     },
     "user_tz": 180
    },
    "id": "9VRX_63j2F7u"
   },
   "outputs": [],
   "source": [
    "url = \"https://edition.cnn.com/world\"\n",
    "\n",
    "links = scrape_cnn_links(url)\n",
    "with open('data/CNN_Links.txt', 'w') as file:\n",
    "    for link in links:\n",
    "        file.write(link + '\\n')"
   ]
  }
 ],
 "metadata": {
  "colab": {
   "authorship_tag": "ABX9TyMuEPZknpHM+An138N/ludQ",
   "provenance": []
  },
  "kernelspec": {
   "display_name": ".venv",
   "language": "python",
   "name": "python3"
  },
  "language_info": {
   "codemirror_mode": {
    "name": "ipython",
    "version": 3
   },
   "file_extension": ".py",
   "mimetype": "text/x-python",
   "name": "python",
   "nbconvert_exporter": "python",
   "pygments_lexer": "ipython3",
   "version": "3.12.3"
  }
 },
 "nbformat": 4,
 "nbformat_minor": 0
}
