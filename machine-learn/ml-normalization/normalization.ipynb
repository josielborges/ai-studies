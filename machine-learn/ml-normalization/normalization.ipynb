{
 "cells": [
  {
   "metadata": {},
   "cell_type": "markdown",
   "source": "# Normalization and Standatdization",
   "id": "525b26ad7d22f235"
  },
  {
   "cell_type": "code",
   "id": "initial_id",
   "metadata": {
    "collapsed": true,
    "ExecuteTime": {
     "end_time": "2024-09-30T23:44:31.711300Z",
     "start_time": "2024-09-30T23:44:31.698073Z"
    }
   },
   "source": [
    "import pandas as pd\n",
    "\n",
    "df = pd.read_csv('Churn_Modelling.csv', sep=';')\n",
    "df.head()"
   ],
   "outputs": [
    {
     "data": {
      "text/plain": [
       "   RowNumber  CustomerId   Surname  CreditScore Geography  Gender  Age  \\\n",
       "0          1    15634602  Hargrave          619    France  Female   42   \n",
       "1          2    15647311      Hill          608     Spain  Female   41   \n",
       "2          3    15619304      Onio          502    France  Female   42   \n",
       "3          4    15701354      Boni          699    France  Female   39   \n",
       "4          5    15737888  Mitchell          850     Spain  Female   43   \n",
       "\n",
       "   Tenure    Balance  NumOfProducts  HasCrCard  IsActiveMember  \\\n",
       "0       2       0.00              1          1               1   \n",
       "1       1   83807.86              1          0               1   \n",
       "2       8  159660.80              3          1               0   \n",
       "3       1       0.00              2          0               0   \n",
       "4       2  125510.82              1          1               1   \n",
       "\n",
       "   EstimatedSalary  Exited  \n",
       "0        101348.88       1  \n",
       "1        112542.58       0  \n",
       "2        113931.57       1  \n",
       "3         93826.63       0  \n",
       "4         79084.10       0  "
      ],
      "text/html": [
       "<div>\n",
       "<style scoped>\n",
       "    .dataframe tbody tr th:only-of-type {\n",
       "        vertical-align: middle;\n",
       "    }\n",
       "\n",
       "    .dataframe tbody tr th {\n",
       "        vertical-align: top;\n",
       "    }\n",
       "\n",
       "    .dataframe thead th {\n",
       "        text-align: right;\n",
       "    }\n",
       "</style>\n",
       "<table border=\"1\" class=\"dataframe\">\n",
       "  <thead>\n",
       "    <tr style=\"text-align: right;\">\n",
       "      <th></th>\n",
       "      <th>RowNumber</th>\n",
       "      <th>CustomerId</th>\n",
       "      <th>Surname</th>\n",
       "      <th>CreditScore</th>\n",
       "      <th>Geography</th>\n",
       "      <th>Gender</th>\n",
       "      <th>Age</th>\n",
       "      <th>Tenure</th>\n",
       "      <th>Balance</th>\n",
       "      <th>NumOfProducts</th>\n",
       "      <th>HasCrCard</th>\n",
       "      <th>IsActiveMember</th>\n",
       "      <th>EstimatedSalary</th>\n",
       "      <th>Exited</th>\n",
       "    </tr>\n",
       "  </thead>\n",
       "  <tbody>\n",
       "    <tr>\n",
       "      <th>0</th>\n",
       "      <td>1</td>\n",
       "      <td>15634602</td>\n",
       "      <td>Hargrave</td>\n",
       "      <td>619</td>\n",
       "      <td>France</td>\n",
       "      <td>Female</td>\n",
       "      <td>42</td>\n",
       "      <td>2</td>\n",
       "      <td>0.00</td>\n",
       "      <td>1</td>\n",
       "      <td>1</td>\n",
       "      <td>1</td>\n",
       "      <td>101348.88</td>\n",
       "      <td>1</td>\n",
       "    </tr>\n",
       "    <tr>\n",
       "      <th>1</th>\n",
       "      <td>2</td>\n",
       "      <td>15647311</td>\n",
       "      <td>Hill</td>\n",
       "      <td>608</td>\n",
       "      <td>Spain</td>\n",
       "      <td>Female</td>\n",
       "      <td>41</td>\n",
       "      <td>1</td>\n",
       "      <td>83807.86</td>\n",
       "      <td>1</td>\n",
       "      <td>0</td>\n",
       "      <td>1</td>\n",
       "      <td>112542.58</td>\n",
       "      <td>0</td>\n",
       "    </tr>\n",
       "    <tr>\n",
       "      <th>2</th>\n",
       "      <td>3</td>\n",
       "      <td>15619304</td>\n",
       "      <td>Onio</td>\n",
       "      <td>502</td>\n",
       "      <td>France</td>\n",
       "      <td>Female</td>\n",
       "      <td>42</td>\n",
       "      <td>8</td>\n",
       "      <td>159660.80</td>\n",
       "      <td>3</td>\n",
       "      <td>1</td>\n",
       "      <td>0</td>\n",
       "      <td>113931.57</td>\n",
       "      <td>1</td>\n",
       "    </tr>\n",
       "    <tr>\n",
       "      <th>3</th>\n",
       "      <td>4</td>\n",
       "      <td>15701354</td>\n",
       "      <td>Boni</td>\n",
       "      <td>699</td>\n",
       "      <td>France</td>\n",
       "      <td>Female</td>\n",
       "      <td>39</td>\n",
       "      <td>1</td>\n",
       "      <td>0.00</td>\n",
       "      <td>2</td>\n",
       "      <td>0</td>\n",
       "      <td>0</td>\n",
       "      <td>93826.63</td>\n",
       "      <td>0</td>\n",
       "    </tr>\n",
       "    <tr>\n",
       "      <th>4</th>\n",
       "      <td>5</td>\n",
       "      <td>15737888</td>\n",
       "      <td>Mitchell</td>\n",
       "      <td>850</td>\n",
       "      <td>Spain</td>\n",
       "      <td>Female</td>\n",
       "      <td>43</td>\n",
       "      <td>2</td>\n",
       "      <td>125510.82</td>\n",
       "      <td>1</td>\n",
       "      <td>1</td>\n",
       "      <td>1</td>\n",
       "      <td>79084.10</td>\n",
       "      <td>0</td>\n",
       "    </tr>\n",
       "  </tbody>\n",
       "</table>\n",
       "</div>"
      ]
     },
     "execution_count": 2,
     "metadata": {},
     "output_type": "execute_result"
    }
   ],
   "execution_count": 2
  },
  {
   "metadata": {
    "ExecuteTime": {
     "end_time": "2024-09-30T23:45:16.867047Z",
     "start_time": "2024-09-30T23:45:16.861055Z"
    }
   },
   "cell_type": "code",
   "source": "df.shape",
   "id": "97edab6d43aaf19d",
   "outputs": [
    {
     "data": {
      "text/plain": [
       "(9865, 14)"
      ]
     },
     "execution_count": 4,
     "metadata": {},
     "output_type": "execute_result"
    }
   ],
   "execution_count": 4
  },
  {
   "metadata": {
    "ExecuteTime": {
     "end_time": "2024-09-30T23:46:43.252417Z",
     "start_time": "2024-09-30T23:46:42.985260Z"
    }
   },
   "cell_type": "code",
   "source": [
    "import matplotlib.pyplot as plt\n",
    "\n",
    "plt.boxplot(df['CreditScore'])\n",
    "plt.title('CreditScore')\n",
    "plt.ylabel('Score')\n",
    "plt.show()"
   ],
   "id": "fbc9aac5ba179b05",
   "outputs": [
    {
     "data": {
      "text/plain": [
       "<Figure size 640x480 with 1 Axes>"
      ],
      "image/png": "[encoded data removed]"
     },
     "metadata": {},
     "output_type": "display_data"
    }
   ],
   "execution_count": 5
  },
  {
   "metadata": {
    "ExecuteTime": {
     "end_time": "2024-09-30T23:48:01.363523Z",
     "start_time": "2024-09-30T23:48:01.358782Z"
    }
   },
   "cell_type": "code",
   "source": [
    "print(df['CreditScore'].min())\n",
    "print(df['CreditScore'].max())"
   ],
   "id": "93259e18ca8466e1",
   "outputs": [
    {
     "name": "stdout",
     "output_type": "stream",
     "text": [
      "350\n",
      "850\n"
     ]
    }
   ],
   "execution_count": 6
  },
  {
   "metadata": {
    "ExecuteTime": {
     "end_time": "2024-09-30T23:48:36.245866Z",
     "start_time": "2024-09-30T23:48:36.202462Z"
    }
   },
   "cell_type": "code",
   "source": [
    "import matplotlib.pyplot as plt\n",
    "\n",
    "plt.boxplot(df['Age'])\n",
    "plt.title('Age')\n",
    "plt.ylabel('Age')\n",
    "plt.show()"
   ],
   "id": "2f006691f23b23d2",
   "outputs": [
    {
     "data": {
      "text/plain": [
       "<Figure size 640x480 with 1 Axes>"
      ],
      "image/png": "[encoded data removed]"
     },
     "metadata": {},
     "output_type": "display_data"
    }
   ],
   "execution_count": 7
  },
  {
   "metadata": {
    "ExecuteTime": {
     "end_time": "2024-09-30T23:49:05.613336Z",
     "start_time": "2024-09-30T23:49:05.610882Z"
    }
   },
   "cell_type": "code",
   "source": [
    "print(df['Age'].min())\n",
    "print(df['Age'].max())"
   ],
   "id": "f130c2f70ba51f44",
   "outputs": [
    {
     "name": "stdout",
     "output_type": "stream",
     "text": [
      "18\n",
      "92\n"
     ]
    }
   ],
   "execution_count": 8
  },
  {
   "metadata": {
    "ExecuteTime": {
     "end_time": "2024-09-30T23:49:53.888743Z",
     "start_time": "2024-09-30T23:49:53.851686Z"
    }
   },
   "cell_type": "code",
   "source": [
    "import matplotlib.pyplot as plt\n",
    "\n",
    "plt.boxplot(df['Tenure'])\n",
    "plt.title('Tenure')\n",
    "plt.ylabel('Tenure')\n",
    "plt.show()"
   ],
   "id": "b0123ecb3f224ccc",
   "outputs": [
    {
     "data": {
      "text/plain": [
       "<Figure size 640x480 with 1 Axes>"
      ],
      "image/png": "[encoded data removed]"
     },
     "metadata": {},
     "output_type": "display_data"
    }
   ],
   "execution_count": 10
  },
  {
   "metadata": {
    "ExecuteTime": {
     "end_time": "2024-09-30T23:50:05.846946Z",
     "start_time": "2024-09-30T23:50:05.841669Z"
    }
   },
   "cell_type": "code",
   "source": [
    "print(df['Tenure'].min())\n",
    "print(df['Tenure'].max())"
   ],
   "id": "eeecbd1289a75b8f",
   "outputs": [
    {
     "name": "stdout",
     "output_type": "stream",
     "text": [
      "0\n",
      "10\n"
     ]
    }
   ],
   "execution_count": 11
  },
  {
   "metadata": {
    "ExecuteTime": {
     "end_time": "2024-09-30T23:50:24.461210Z",
     "start_time": "2024-09-30T23:50:24.416458Z"
    }
   },
   "cell_type": "code",
   "source": [
    "import matplotlib.pyplot as plt\n",
    "\n",
    "plt.boxplot(df['Balance'])\n",
    "plt.title('Balance')\n",
    "plt.ylabel('Balance')\n",
    "plt.show()"
   ],
   "id": "de5b51b86b5f3049",
   "outputs": [
    {
     "data": {
      "text/plain": [
       "<Figure size 640x480 with 1 Axes>"
      ],
      "image/png": "[encoded data removed]"
     },
     "metadata": {},
     "output_type": "display_data"
    }
   ],
   "execution_count": 12
  },
  {
   "metadata": {
    "ExecuteTime": {
     "end_time": "2024-09-30T23:50:26.871628Z",
     "start_time": "2024-09-30T23:50:26.868279Z"
    }
   },
   "cell_type": "code",
   "source": [
    "print(df['Balance'].min())\n",
    "print(df['Balance'].max())"
   ],
   "id": "cb2f62cb21c7b2ea",
   "outputs": [
    {
     "name": "stdout",
     "output_type": "stream",
     "text": [
      "0.0\n",
      "250898.09\n"
     ]
    }
   ],
   "execution_count": 13
  },
  {
   "metadata": {
    "ExecuteTime": {
     "end_time": "2024-09-30T23:51:01.682605Z",
     "start_time": "2024-09-30T23:51:01.621205Z"
    }
   },
   "cell_type": "code",
   "source": [
    "import matplotlib.pyplot as plt \n",
    "\n",
    "plt.boxplot(df['NumOfProducts'])\n",
    "plt.title('NumOfProducts')\n",
    "plt.ylabel('NumOfProducts')\n",
    "plt.show()"
   ],
   "id": "2b88c8b764484498",
   "outputs": [
    {
     "data": {
      "text/plain": [
       "<Figure size 640x480 with 1 Axes>"
      ],
      "image/png": "[encoded data removed]"
     },
     "metadata": {},
     "output_type": "display_data"
    }
   ],
   "execution_count": 14
  },
  {
   "metadata": {
    "ExecuteTime": {
     "end_time": "2024-09-30T23:51:04.821283Z",
     "start_time": "2024-09-30T23:51:04.817105Z"
    }
   },
   "cell_type": "code",
   "source": [
    "print(df['NumOfProducts'].min())\n",
    "print(df['NumOfProducts'].max())"
   ],
   "id": "2f4db0d73d0f8280",
   "outputs": [
    {
     "name": "stdout",
     "output_type": "stream",
     "text": [
      "1\n",
      "4\n"
     ]
    }
   ],
   "execution_count": 15
  },
  {
   "metadata": {
    "ExecuteTime": {
     "end_time": "2024-09-30T23:51:18.062236Z",
     "start_time": "2024-09-30T23:51:18.014490Z"
    }
   },
   "cell_type": "code",
   "source": [
    "import matplotlib.pyplot as plt\n",
    "\n",
    "plt.boxplot(df['EstimatedSalary'])\n",
    "plt.title('EstimatedSalary')\n",
    "plt.ylabel('EstimatedSalary')\n",
    "plt.show()"
   ],
   "id": "b8768f8633c390a",
   "outputs": [
    {
     "data": {
      "text/plain": [
       "<Figure size 640x480 with 1 Axes>"
      ],
      "image/png": "[encoded data removed]"
     },
     "metadata": {},
     "output_type": "display_data"
    }
   ],
   "execution_count": 16
  },
  {
   "metadata": {
    "ExecuteTime": {
     "end_time": "2024-09-30T23:51:25.174069Z",
     "start_time": "2024-09-30T23:51:25.169897Z"
    }
   },
   "cell_type": "code",
   "source": [
    "print(df['EstimatedSalary'].min())\n",
    "print(df['EstimatedSalary'].max())"
   ],
   "id": "c8ebd6769cd8e53a",
   "outputs": [
    {
     "name": "stdout",
     "output_type": "stream",
     "text": [
      "11.58\n",
      "199992.48\n"
     ]
    }
   ],
   "execution_count": 17
  },
  {
   "metadata": {},
   "cell_type": "markdown",
   "source": "## Label encoder",
   "id": "938615cb2f0b1eae"
  },
  {
   "metadata": {
    "ExecuteTime": {
     "end_time": "2024-09-30T23:53:27.196861Z",
     "start_time": "2024-09-30T23:53:26.775782Z"
    }
   },
   "cell_type": "code",
   "source": [
    "\n",
    "from sklearn.preprocessing import LabelEncoder\n",
    "\n",
    "le = LabelEncoder()\n",
    "df['Surname'] = le.fit_transform(df['Surname'])\n",
    "df['Geography'] = le.fit_transform(df['Geography'])\n",
    "df['Gender'] = le.fit_transform(df['Gender'])\n",
    "\n",
    "df.head()"
   ],
   "id": "a8c7af1f18d13d0f",
   "outputs": [
    {
     "data": {
      "text/plain": [
       "   RowNumber  CustomerId  Surname  CreditScore  Geography  Gender  Age  \\\n",
       "0          1    15634602     1111          619          0       0   42   \n",
       "1          2    15647311     1173          608          2       0   41   \n",
       "2          3    15619304     2032          502          0       0   42   \n",
       "3          4    15701354      289          699          0       0   39   \n",
       "4          5    15737888     1816          850          2       0   43   \n",
       "\n",
       "   Tenure    Balance  NumOfProducts  HasCrCard  IsActiveMember  \\\n",
       "0       2       0.00              1          1               1   \n",
       "1       1   83807.86              1          0               1   \n",
       "2       8  159660.80              3          1               0   \n",
       "3       1       0.00              2          0               0   \n",
       "4       2  125510.82              1          1               1   \n",
       "\n",
       "   EstimatedSalary  Exited  \n",
       "0        101348.88       1  \n",
       "1        112542.58       0  \n",
       "2        113931.57       1  \n",
       "3         93826.63       0  \n",
       "4         79084.10       0  "
      ],
      "text/html": [
       "<div>\n",
       "<style scoped>\n",
       "    .dataframe tbody tr th:only-of-type {\n",
       "        vertical-align: middle;\n",
       "    }\n",
       "\n",
       "    .dataframe tbody tr th {\n",
       "        vertical-align: top;\n",
       "    }\n",
       "\n",
       "    .dataframe thead th {\n",
       "        text-align: right;\n",
       "    }\n",
       "</style>\n",
       "<table border=\"1\" class=\"dataframe\">\n",
       "  <thead>\n",
       "    <tr style=\"text-align: right;\">\n",
       "      <th></th>\n",
       "      <th>RowNumber</th>\n",
       "      <th>CustomerId</th>\n",
       "      <th>Surname</th>\n",
       "      <th>CreditScore</th>\n",
       "      <th>Geography</th>\n",
       "      <th>Gender</th>\n",
       "      <th>Age</th>\n",
       "      <th>Tenure</th>\n",
       "      <th>Balance</th>\n",
       "      <th>NumOfProducts</th>\n",
       "      <th>HasCrCard</th>\n",
       "      <th>IsActiveMember</th>\n",
       "      <th>EstimatedSalary</th>\n",
       "      <th>Exited</th>\n",
       "    </tr>\n",
       "  </thead>\n",
       "  <tbody>\n",
       "    <tr>\n",
       "      <th>0</th>\n",
       "      <td>1</td>\n",
       "      <td>15634602</td>\n",
       "      <td>1111</td>\n",
       "      <td>619</td>\n",
       "      <td>0</td>\n",
       "      <td>0</td>\n",
       "      <td>42</td>\n",
       "      <td>2</td>\n",
       "      <td>0.00</td>\n",
       "      <td>1</td>\n",
       "      <td>1</td>\n",
       "      <td>1</td>\n",
       "      <td>101348.88</td>\n",
       "      <td>1</td>\n",
       "    </tr>\n",
       "    <tr>\n",
       "      <th>1</th>\n",
       "      <td>2</td>\n",
       "      <td>15647311</td>\n",
       "      <td>1173</td>\n",
       "      <td>608</td>\n",
       "      <td>2</td>\n",
       "      <td>0</td>\n",
       "      <td>41</td>\n",
       "      <td>1</td>\n",
       "      <td>83807.86</td>\n",
       "      <td>1</td>\n",
       "      <td>0</td>\n",
       "      <td>1</td>\n",
       "      <td>112542.58</td>\n",
       "      <td>0</td>\n",
       "    </tr>\n",
       "    <tr>\n",
       "      <th>2</th>\n",
       "      <td>3</td>\n",
       "      <td>15619304</td>\n",
       "      <td>2032</td>\n",
       "      <td>502</td>\n",
       "      <td>0</td>\n",
       "      <td>0</td>\n",
       "      <td>42</td>\n",
       "      <td>8</td>\n",
       "      <td>159660.80</td>\n",
       "      <td>3</td>\n",
       "      <td>1</td>\n",
       "      <td>0</td>\n",
       "      <td>113931.57</td>\n",
       "      <td>1</td>\n",
       "    </tr>\n",
       "    <tr>\n",
       "      <th>3</th>\n",
       "      <td>4</td>\n",
       "      <td>15701354</td>\n",
       "      <td>289</td>\n",
       "      <td>699</td>\n",
       "      <td>0</td>\n",
       "      <td>0</td>\n",
       "      <td>39</td>\n",
       "      <td>1</td>\n",
       "      <td>0.00</td>\n",
       "      <td>2</td>\n",
       "      <td>0</td>\n",
       "      <td>0</td>\n",
       "      <td>93826.63</td>\n",
       "      <td>0</td>\n",
       "    </tr>\n",
       "    <tr>\n",
       "      <th>4</th>\n",
       "      <td>5</td>\n",
       "      <td>15737888</td>\n",
       "      <td>1816</td>\n",
       "      <td>850</td>\n",
       "      <td>2</td>\n",
       "      <td>0</td>\n",
       "      <td>43</td>\n",
       "      <td>2</td>\n",
       "      <td>125510.82</td>\n",
       "      <td>1</td>\n",
       "      <td>1</td>\n",
       "      <td>1</td>\n",
       "      <td>79084.10</td>\n",
       "      <td>0</td>\n",
       "    </tr>\n",
       "  </tbody>\n",
       "</table>\n",
       "</div>"
      ]
     },
     "execution_count": 18,
     "metadata": {},
     "output_type": "execute_result"
    }
   ],
   "execution_count": 18
  },
  {
   "metadata": {},
   "cell_type": "markdown",
   "source": "### Separate into train and test",
   "id": "fd5bd035d0544087"
  },
  {
   "metadata": {
    "ExecuteTime": {
     "end_time": "2024-10-01T00:01:49.950509Z",
     "start_time": "2024-10-01T00:01:49.904611Z"
    }
   },
   "cell_type": "code",
   "source": [
    "from sklearn.model_selection import train_test_split\n",
    "\n",
    "X = df.drop(columns=['Exited'])\n",
    "y = df['Exited'] # target\n",
    "\n",
    "X_train, X_test, y_train, y_test = train_test_split(X, y, test_size=0.2, random_state=42)"
   ],
   "id": "1171910193048143",
   "outputs": [],
   "execution_count": 21
  },
  {
   "metadata": {
    "ExecuteTime": {
     "end_time": "2024-10-01T00:00:30.186412Z",
     "start_time": "2024-10-01T00:00:30.183483Z"
    }
   },
   "cell_type": "code",
   "source": "from sklearn.preprocessing import StandardScaler, MinMaxScaler",
   "id": "afe879ee155ce8ad",
   "outputs": [],
   "execution_count": 19
  },
  {
   "metadata": {},
   "cell_type": "markdown",
   "source": "### MinMaxScaler\n",
   "id": "a0d255eedb5b74d8"
  },
  {
   "metadata": {
    "ExecuteTime": {
     "end_time": "2024-10-01T00:01:51.642396Z",
     "start_time": "2024-10-01T00:01:51.624596Z"
    }
   },
   "cell_type": "code",
   "source": [
    "scaler = MinMaxScaler()\n",
    "\n",
    "scaler.fit(X_train) # fit the scaler to the train set\n",
    "\n",
    "X_train_min_max_scaled = scaler.transform(X_train) # transform the train set\n",
    "X_test_min_max_scaled = scaler.transform(X_test) # transform the test set"
   ],
   "id": "83587d0c45aeb112",
   "outputs": [],
   "execution_count": 22
  },
  {
   "metadata": {
    "ExecuteTime": {
     "end_time": "2024-10-01T00:02:04.429459Z",
     "start_time": "2024-10-01T00:02:04.426881Z"
    }
   },
   "cell_type": "code",
   "source": "X_train_min_max_scaled",
   "id": "b3a32f0a11b03c86",
   "outputs": [
    {
     "data": {
      "text/plain": [
       "array([[0.35201121, 0.11669547, 0.88507719, ..., 1.        , 0.        ,\n",
       "        0.34768845],\n",
       "       [0.60456274, 0.78062996, 0.35849057, ..., 1.        , 0.        ,\n",
       "        0.46923837],\n",
       "       [0.89393636, 0.07744496, 0.17495712, ..., 0.        , 1.        ,\n",
       "        0.56001428],\n",
       "       ...,\n",
       "       [0.53922353, 0.03258209, 0.5626072 , ..., 0.        , 0.        ,\n",
       "        0.46092526],\n",
       "       [0.08595157, 0.96788994, 0.59691252, ..., 1.        , 0.        ,\n",
       "        0.48738065],\n",
       "       [0.7273364 , 0.56228399, 0.84425386, ..., 1.        , 1.        ,\n",
       "        0.26761502]])"
      ]
     },
     "execution_count": 23,
     "metadata": {},
     "output_type": "execute_result"
    }
   ],
   "execution_count": 23
  },
  {
   "metadata": {},
   "cell_type": "markdown",
   "source": "### StandardScaler",
   "id": "c2cff7628fa5e9fc"
  },
  {
   "metadata": {
    "ExecuteTime": {
     "end_time": "2024-10-01T00:05:56.450955Z",
     "start_time": "2024-10-01T00:05:56.442728Z"
    }
   },
   "cell_type": "code",
   "source": [
    "scaler = StandardScaler()\n",
    "\n",
    "scaler.fit(X_train) # fit the scaler to the train set\n",
    "\n",
    "X_train_std_scaled = scaler.transform(X_train) # transform the train set\n",
    "X_test_std_scaled = scaler.transform(X_test) # transform the test set"
   ],
   "id": "b2ad8e9961bbd7aa",
   "outputs": [],
   "execution_count": 24
  },
  {
   "metadata": {
    "ExecuteTime": {
     "end_time": "2024-10-01T00:05:57.527613Z",
     "start_time": "2024-10-01T00:05:57.523314Z"
    }
   },
   "cell_type": "code",
   "source": "X_train_std_scaled",
   "id": "2c1df90bc35c60fb",
   "outputs": [
    {
     "data": {
      "text/plain": [
       "array([[-0.50073964, -1.33102082,  1.28295781, ...,  0.64920701,\n",
       "        -1.04034701, -0.53624445],\n",
       "       [ 0.38340744,  0.98483691, -0.54107698, ...,  0.64920701,\n",
       "        -1.04034701, -0.11539063],\n",
       "       [ 1.39646344, -1.46792981, -1.17681548, ..., -1.54034073,\n",
       "         0.96121774,  0.19891141],\n",
       "       ...,\n",
       "       [ 0.15466416, -1.62441517,  0.16595931, ..., -1.54034073,\n",
       "        -1.04034701, -0.1441739 ],\n",
       "       [-1.43217667,  1.63801503,  0.28478893, ...,  0.64920701,\n",
       "        -1.04034701, -0.05257492],\n",
       "       [ 0.81322062,  0.22322832,  1.14155055, ...,  0.64920701,\n",
       "         0.96121774, -0.81349026]])"
      ]
     },
     "execution_count": 25,
     "metadata": {},
     "output_type": "execute_result"
    }
   ],
   "execution_count": 25
  },
  {
   "metadata": {},
   "cell_type": "markdown",
   "source": "## Testing the model",
   "id": "f08605420725ec42"
  },
  {
   "metadata": {},
   "cell_type": "markdown",
   "source": "### With no normalization",
   "id": "31ad7830d8d9a193"
  },
  {
   "metadata": {
    "ExecuteTime": {
     "end_time": "2024-10-01T00:08:55.792342Z",
     "start_time": "2024-10-01T00:08:55.745273Z"
    }
   },
   "cell_type": "code",
   "source": [
    "\n",
    "from sklearn.neighbors import KNeighborsClassifier\n",
    "\n",
    "model = KNeighborsClassifier(n_neighbors=3)\n",
    "\n",
    "model.fit(X_train, y_train) # fit the model to the train set (without normalization)\n",
    "\n",
    "y_pred = model.predict(X_test) # predict on the test set"
   ],
   "id": "8707e47811b569f5",
   "outputs": [],
   "execution_count": 28
  },
  {
   "metadata": {
    "ExecuteTime": {
     "end_time": "2024-10-01T00:08:59.246013Z",
     "start_time": "2024-10-01T00:08:59.242203Z"
    }
   },
   "cell_type": "code",
   "source": "y_pred",
   "id": "b9569bd2821df9c2",
   "outputs": [
    {
     "data": {
      "text/plain": [
       "array([1, 0, 1, ..., 0, 0, 0])"
      ]
     },
     "execution_count": 29,
     "metadata": {},
     "output_type": "execute_result"
    }
   ],
   "execution_count": 29
  },
  {
   "metadata": {
    "ExecuteTime": {
     "end_time": "2024-10-01T00:09:57.596201Z",
     "start_time": "2024-10-01T00:09:57.591225Z"
    }
   },
   "cell_type": "code",
   "source": [
    "from sklearn.metrics import accuracy_score\n",
    "\n",
    "accuracy = accuracy_score(y_test, y_pred)\n",
    "print(f'Accuracy: {accuracy}')"
   ],
   "id": "74c9741fc2b76f92",
   "outputs": [
    {
     "name": "stdout",
     "output_type": "stream",
     "text": [
      "Accuracy: 0.7567156614292955\n"
     ]
    }
   ],
   "execution_count": 30
  },
  {
   "metadata": {},
   "cell_type": "markdown",
   "source": "### With MinMaxScaler\n",
   "id": "3249eb9e718abb46"
  },
  {
   "metadata": {
    "ExecuteTime": {
     "end_time": "2024-10-01T00:11:47.668263Z",
     "start_time": "2024-10-01T00:11:47.578651Z"
    }
   },
   "cell_type": "code",
   "source": [
    "model = KNeighborsClassifier(n_neighbors=3)\n",
    "\n",
    "model.fit(X_train_min_max_scaled, y_train) # fit the model to the train set \n",
    "\n",
    "y_pred_min_max = model.predict(X_test_min_max_scaled) # predict on the test set"
   ],
   "id": "c1bf7cd266453f34",
   "outputs": [],
   "execution_count": 32
  },
  {
   "metadata": {
    "ExecuteTime": {
     "end_time": "2024-10-01T00:11:56.459119Z",
     "start_time": "2024-10-01T00:11:56.456186Z"
    }
   },
   "cell_type": "code",
   "source": [
    "accuracy = accuracy_score(y_test, y_pred_min_max)\n",
    "print(f'Accuracy: {accuracy}')\n"
   ],
   "id": "7c758e05b477dec2",
   "outputs": [
    {
     "name": "stdout",
     "output_type": "stream",
     "text": [
      "Accuracy: 0.8048656867714141\n"
     ]
    }
   ],
   "execution_count": 34
  },
  {
   "metadata": {},
   "cell_type": "markdown",
   "source": "### With StandardScaler",
   "id": "976a017c3998198"
  },
  {
   "metadata": {
    "ExecuteTime": {
     "end_time": "2024-10-01T00:12:44.404507Z",
     "start_time": "2024-10-01T00:12:44.252699Z"
    }
   },
   "cell_type": "code",
   "source": [
    "model = KNeighborsClassifier(n_neighbors=3)\n",
    "\n",
    "model.fit(X_train_std_scaled, y_train) # fit the model to the train set\n",
    "\n",
    "y_pred_std = model.predict(X_test_std_scaled) # predict on the test set"
   ],
   "id": "1404069a12ef2e79",
   "outputs": [],
   "execution_count": 35
  },
  {
   "metadata": {
    "ExecuteTime": {
     "end_time": "2024-10-01T00:12:45.260664Z",
     "start_time": "2024-10-01T00:12:45.256306Z"
    }
   },
   "cell_type": "code",
   "source": [
    "accuracy = accuracy_score(y_test, y_pred_std)\n",
    "print(f'Accuracy: {accuracy}')"
   ],
   "id": "f6d14fc4524d479e",
   "outputs": [
    {
     "name": "stdout",
     "output_type": "stream",
     "text": [
      "Accuracy: 0.8175367460719716\n"
     ]
    }
   ],
   "execution_count": 36
  }
 ],
 "metadata": {
  "kernelspec": {
   "display_name": "Python 3",
   "language": "python",
   "name": "python3"
  },
  "language_info": {
   "codemirror_mode": {
    "name": "ipython",
    "version": 2
   },
   "file_extension": ".py",
   "mimetype": "text/x-python",
   "name": "python",
   "nbconvert_exporter": "python",
   "pygments_lexer": "ipython2",
   "version": "2.7.6"
  }
 },
 "nbformat": 4,
 "nbformat_minor": 5
}
