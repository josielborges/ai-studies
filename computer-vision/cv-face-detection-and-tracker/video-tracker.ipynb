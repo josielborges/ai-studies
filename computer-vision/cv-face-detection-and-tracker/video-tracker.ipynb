{
 "cells": [
  {
   "cell_type": "code",
   "id": "initial_id",
   "metadata": {
    "collapsed": true,
    "ExecuteTime": {
     "end_time": "2024-10-17T23:43:05.900395Z",
     "start_time": "2024-10-17T23:43:05.824203Z"
    }
   },
   "source": [
    "import cv2\n",
    "\n",
    "tracker = cv2.TrackerMIL_create()\n",
    "\n",
    "video = cv2.VideoCapture('race.mp4')\n",
    "\n",
    "ok, frame = video.read()\n",
    "\n",
    "bbox = cv2.selectROI(frame)\n",
    "\n",
    "ok = tracker.init(frame, bbox)\n",
    "\n",
    "while True:\n",
    "    ok, frame = video.read()\n",
    "    if not ok:\n",
    "        break\n",
    "\n",
    "    ok, bbox = video.update()\n",
    "    \n",
    "    if ok:\n",
    "        (x, y, w, h) = [int(v) for v in bbox]\n",
    "        cv2.rectangle(frame, (x,y), (x+w, y+h), (0, 255, 0), 2, 1)\n",
    "    else:\n",
    "        cv2.putText(frame, 'Error', (100, 80), cv2.FONT_HERSHEY_SIMPLEX, 1, (0,0,255), 2)\n",
    "        \n",
    "    cv2.imshow('Tracking', frame)\n",
    "    if cv2.waitKey(1) & 0XFF == 27:\n",
    "        break\n",
    "    "
   ],
   "outputs": [],
   "execution_count": 1
  }
 ],
 "metadata": {
  "kernelspec": {
   "display_name": "Python 3",
   "language": "python",
   "name": "python3"
  },
  "language_info": {
   "codemirror_mode": {
    "name": "ipython",
    "version": 2
   },
   "file_extension": ".py",
   "mimetype": "text/x-python",
   "name": "python",
   "nbconvert_exporter": "python",
   "pygments_lexer": "ipython2",
   "version": "2.7.6"
  }
 },
 "nbformat": 4,
 "nbformat_minor": 5
}
